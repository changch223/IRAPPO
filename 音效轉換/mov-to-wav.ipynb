{
 "cells": [
  {
   "cell_type": "code",
   "execution_count": 33,
   "id": "01b74018-3cce-403d-8ea8-e0c855a5ea3b",
   "metadata": {},
   "outputs": [],
   "source": [
    "#!pip install moviepy"
   ]
  },
  {
   "cell_type": "code",
   "execution_count": 13,
   "id": "58cca694-1239-45dd-8417-a6ce3e301582",
   "metadata": {},
   "outputs": [],
   "source": [
    "import moviepy\n",
    "\n"
   ]
  },
  {
   "cell_type": "code",
   "execution_count": 15,
   "id": "6bfcabe7-9b7e-45c8-ad11-3489fb1fe114",
   "metadata": {},
   "outputs": [],
   "source": [
    "import moviepy.video.io.VideoFileClip as mpy"
   ]
  },
  {
   "cell_type": "code",
   "execution_count": 35,
   "id": "5629da9d-94dc-416e-8485-b671aa268b2e",
   "metadata": {},
   "outputs": [
    {
     "name": "stdout",
     "output_type": "stream",
     "text": [
      "MoviePy - Writing audio in ough.wav\n"
     ]
    },
    {
     "name": "stderr",
     "output_type": "stream",
     "text": [
      "                                                                                "
     ]
    },
    {
     "name": "stdout",
     "output_type": "stream",
     "text": [
      "MoviePy - Done.\n"
     ]
    },
    {
     "name": "stderr",
     "output_type": "stream",
     "text": [
      "\r"
     ]
    }
   ],
   "source": [
    "input_path = \"ough.mov\"\n",
    "output_path = \"ough.wav\"\n",
    "\n",
    "# 讀取影片並提取音訊\n",
    "audio_clip = mpy.AudioFileClip(input_path)\n",
    "audio_clip.write_audiofile(output_path)\n"
   ]
  },
  {
   "cell_type": "code",
   "execution_count": null,
   "id": "dd1ebf04-1f6b-4aa3-ac85-1d24ba52517c",
   "metadata": {},
   "outputs": [],
   "source": []
  }
 ],
 "metadata": {
  "kernelspec": {
   "display_name": "Python [conda env:base] *",
   "language": "python",
   "name": "conda-base-py"
  },
  "language_info": {
   "codemirror_mode": {
    "name": "ipython",
    "version": 3
   },
   "file_extension": ".py",
   "mimetype": "text/x-python",
   "name": "python",
   "nbconvert_exporter": "python",
   "pygments_lexer": "ipython3",
   "version": "3.12.7"
  }
 },
 "nbformat": 4,
 "nbformat_minor": 5
}
